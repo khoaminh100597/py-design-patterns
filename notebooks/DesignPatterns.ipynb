{
 "cells": [
  {
   "cell_type": "markdown",
   "metadata": {},
   "source": [
    "# 1. Creational Design Patterns in Python"
   ]
  },
  {
   "cell_type": "markdown",
   "metadata": {},
   "source": [
    "## 1.1 Factory Method"
   ]
  },
  {
   "cell_type": "markdown",
   "metadata": {},
   "source": [
    "Factory Method is a **Creational Design Pattern** that allows an interface or a class to create an object, but lets subclasses decide which class or object to instantiate.\n",
    "\n",
    "Using the **Factory method**, we have the best ways to create an object. Here, objects are created without exposing the logic to the client, and for creating the new type of object, the client uses the same common interface.\n",
    "\n",
    "![alt text](https://media.geeksforgeeks.org/wp-content/uploads/20200116152733/solution_factory-_diagram.png)\n",
    "\n",
    "Factory methods can be recognized by **creation methods** that **construct objects** from **concrete classes**.\n",
    "\n",
    "While **concrete classes** are used during the object creation, the **return type of the factory methods** is usually declared as either an **abstract class** or an **interface**.\n",
    "\n",
    "![alt text](https://refactoring.guru/images/patterns/diagrams/factory-method/example.png?id=67db9a5cb817913444efcb1c067c9835)"
   ]
  },
  {
   "cell_type": "markdown",
   "metadata": {},
   "source": [
    "## 1.2 Abstract Factory Method"
   ]
  },
  {
   "cell_type": "markdown",
   "metadata": {},
   "source": [
    "Abstract Factory Method is a creational design pattern, it provides an **interface** for **creating families** of related or dependent objects **without specifying their concrete classes**.\n",
    "\n",
    "Using the abstract factory method, we have the easiest ways to produce a similar type of many objects. \n",
    "\n",
    "It provides a way to encapsulate a group of individual factories. \n",
    "\n",
    "Basically, here we try to abstract the creation of the objects depending on the logic, business, platform choice, etc.\n",
    "\n",
    "![alt text](https://media.geeksforgeeks.org/wp-content/uploads/20200120114250/solution_abstarct_factory.png)"
   ]
  },
  {
   "cell_type": "markdown",
   "metadata": {},
   "source": [
    "## 1.3 Builder Method"
   ]
  },
  {
   "cell_type": "markdown",
   "metadata": {},
   "source": [
    "Builder Method is a Creation Design Pattern which aims to “Separate the construction of a complex object from its representation so that the same construction process can create different representations.”\n",
    "\n",
    "Here using the same construction code, we can produce different types and representations of the object easily.\n",
    "\n",
    "![alt text](https://media.geeksforgeeks.org/wp-content/uploads/20200121113551/Builder-Method-2.png)\n",
    "\n",
    "### Advantages\n",
    "\n",
    "Reusability: While making the various representations of the products, we can use the same construction code for other representations as well.\n",
    "\n",
    "Single Responsibility Principle: We can separate out both the business logic as well as the complex construction code from each other.\n",
    "\n",
    "Construction of the object: Here we construct our object step by step, defer construction steps or run steps recursively."
   ]
  },
  {
   "cell_type": "markdown",
   "metadata": {},
   "source": [
    "## 1.4 Prototype Method"
   ]
  },
  {
   "cell_type": "markdown",
   "metadata": {},
   "source": [
    "The Prototype Method Design Pattern in Python enables the creation of new objects by cloning existing ones, promoting efficient object creation and reducing overhead. \n",
    "\n",
    "This pattern is particularly useful when the cost of creating a new object is high and when an object’s initial state or configuration is complex.\n",
    "\n",
    "By utilizing cloning, developers can streamline object creation, ensuring that new instances are created with the same properties and behaviors as the prototype, while also allowing for easy customization and modification.\n",
    "\n",
    "![alt text](https://media.geeksforgeeks.org/wp-content/uploads/20240202092603/PrototypeComponentdrawio-(2).png)\n",
    "\n",
    "1. Prototype Interface or Abstract Class\n",
    "    - The Prototype Interface or Abstract Class declares the method(s) for cloning an object. \n",
    "    - It defines the common interface that concrete prototypes must implement, ensuring that all prototypes can be cloned in a consistent manner.\n",
    "    - The main role is to provide a blueprint for creating new objects by specifying the cloning contract.\n",
    "    - It declares the clone method, which concrete prototypes implement to produce copies of themselves.\n",
    "2. Concrete Prototype\n",
    "    - The Concrete Prototype is a class that implements the prototype interface or extends the abstract class. \n",
    "    - It’s the class representing a specific type of object that you want to clone.\n",
    "    - It defines the details of how the cloning process should be carried out for instances of that class.\n",
    "    - Implements the clone method declared in the prototype interface, providing the cloning logic specific to the class.\n",
    "3. Client\n",
    "    - The Client is the code or module that requests the creation of new objects by interacting with the prototype. It initiates the cloning process without being aware of the concrete classes involved.\n",
    "4. Clone Method\n",
    "    - The Clone Method is declared in the prototype interface or abstract class. \n",
    "    - It specifies how an object should be copied or cloned. \n",
    "    - Concrete prototypes implement this method to define their unique cloning behavior. It Describes how the object’s internal state should be duplicated to create a new, independent instance.\n",
    "\n",
    "- When to use the Prototype Design Pattern \n",
    "    - Creating Objects is Costly:\n",
    "        - Use the Prototype pattern when creating objects is more expensive or complex than copying existing ones.\n",
    "        - If object creation involves significant resources, such as database or network calls, and you have a similar object available, cloning can be more efficient.\n",
    "    - Variations of Objects:\n",
    "        - Use the Prototype pattern when your system needs to support a variety of objects with slight variations.\n",
    "        - Instead of creating multiple classes for each variation, you can create prototypes and clone them with modifications.\n",
    "    - Dynamic Configuration:\n",
    "        - Use the Prototype pattern when your system requires dynamic configuration and you want to create objects with configurations at runtime.\n",
    "        - You can prototype a base configuration and clone it, adjusting the properties as needed.\n",
    "    - Reducing Initialization Overhead:\n",
    "        - Use the Prototype pattern when you want to reduce the overhead of initializing an object.\n",
    "        - Creating a clone can be faster than creating an object from scratch, especially when the initialization process is resource-intensive."
   ]
  },
  {
   "cell_type": "markdown",
   "metadata": {},
   "source": []
  }
 ],
 "metadata": {
  "language_info": {
   "name": "python"
  }
 },
 "nbformat": 4,
 "nbformat_minor": 2
}
